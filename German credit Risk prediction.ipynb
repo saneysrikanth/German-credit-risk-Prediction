{
 "cells": [
  {
   "cell_type": "code",
   "execution_count": null,
   "metadata": {},
   "outputs": [],
   "source": [
    "# This project helps in risk prediction of German credit\n",
    "# I have made changes to convert given details to integer categorical values\n",
    "# please go through the code for further understanding"
   ]
  },
  {
   "cell_type": "code",
   "execution_count": 9,
   "metadata": {},
   "outputs": [],
   "source": [
    "#1.importing of required librarires\n",
    "\n",
    "import pandas as pd\n",
    "import matplotlib.pylab as plt\n",
    "import seaborn as sns\n",
    "import numpy as np"
   ]
  },
  {
   "cell_type": "code",
   "execution_count": 10,
   "metadata": {},
   "outputs": [
    {
     "data": {
      "text/html": [
       "<div>\n",
       "<style scoped>\n",
       "    .dataframe tbody tr th:only-of-type {\n",
       "        vertical-align: middle;\n",
       "    }\n",
       "\n",
       "    .dataframe tbody tr th {\n",
       "        vertical-align: top;\n",
       "    }\n",
       "\n",
       "    .dataframe thead th {\n",
       "        text-align: right;\n",
       "    }\n",
       "</style>\n",
       "<table border=\"1\" class=\"dataframe\">\n",
       "  <thead>\n",
       "    <tr style=\"text-align: right;\">\n",
       "      <th></th>\n",
       "      <th>Sr.no</th>\n",
       "      <th>Age</th>\n",
       "      <th>Sex</th>\n",
       "      <th>Job</th>\n",
       "      <th>Housing</th>\n",
       "      <th>Saving accounts</th>\n",
       "      <th>Checking account</th>\n",
       "      <th>Credit amount</th>\n",
       "      <th>Duration</th>\n",
       "      <th>Purpose</th>\n",
       "      <th>Risk</th>\n",
       "    </tr>\n",
       "  </thead>\n",
       "  <tbody>\n",
       "    <tr>\n",
       "      <th>0</th>\n",
       "      <td>0</td>\n",
       "      <td>67</td>\n",
       "      <td>male</td>\n",
       "      <td>2</td>\n",
       "      <td>own</td>\n",
       "      <td>NaN</td>\n",
       "      <td>little</td>\n",
       "      <td>1169</td>\n",
       "      <td>6</td>\n",
       "      <td>radio/TV</td>\n",
       "      <td>good</td>\n",
       "    </tr>\n",
       "    <tr>\n",
       "      <th>1</th>\n",
       "      <td>1</td>\n",
       "      <td>22</td>\n",
       "      <td>female</td>\n",
       "      <td>2</td>\n",
       "      <td>own</td>\n",
       "      <td>little</td>\n",
       "      <td>moderate</td>\n",
       "      <td>5951</td>\n",
       "      <td>48</td>\n",
       "      <td>radio/TV</td>\n",
       "      <td>bad</td>\n",
       "    </tr>\n",
       "    <tr>\n",
       "      <th>2</th>\n",
       "      <td>2</td>\n",
       "      <td>49</td>\n",
       "      <td>male</td>\n",
       "      <td>1</td>\n",
       "      <td>own</td>\n",
       "      <td>little</td>\n",
       "      <td>NaN</td>\n",
       "      <td>2096</td>\n",
       "      <td>12</td>\n",
       "      <td>education</td>\n",
       "      <td>good</td>\n",
       "    </tr>\n",
       "    <tr>\n",
       "      <th>3</th>\n",
       "      <td>3</td>\n",
       "      <td>45</td>\n",
       "      <td>male</td>\n",
       "      <td>2</td>\n",
       "      <td>free</td>\n",
       "      <td>little</td>\n",
       "      <td>little</td>\n",
       "      <td>7882</td>\n",
       "      <td>42</td>\n",
       "      <td>furniture/equipment</td>\n",
       "      <td>good</td>\n",
       "    </tr>\n",
       "    <tr>\n",
       "      <th>4</th>\n",
       "      <td>4</td>\n",
       "      <td>53</td>\n",
       "      <td>male</td>\n",
       "      <td>2</td>\n",
       "      <td>free</td>\n",
       "      <td>little</td>\n",
       "      <td>little</td>\n",
       "      <td>4870</td>\n",
       "      <td>24</td>\n",
       "      <td>car</td>\n",
       "      <td>bad</td>\n",
       "    </tr>\n",
       "  </tbody>\n",
       "</table>\n",
       "</div>"
      ],
      "text/plain": [
       "   Sr.no  Age     Sex  Job Housing Saving accounts Checking account  \\\n",
       "0      0   67    male    2     own             NaN           little   \n",
       "1      1   22  female    2     own          little         moderate   \n",
       "2      2   49    male    1     own          little              NaN   \n",
       "3      3   45    male    2    free          little           little   \n",
       "4      4   53    male    2    free          little           little   \n",
       "\n",
       "   Credit amount  Duration              Purpose  Risk  \n",
       "0           1169         6             radio/TV  good  \n",
       "1           5951        48             radio/TV   bad  \n",
       "2           2096        12            education  good  \n",
       "3           7882        42  furniture/equipment  good  \n",
       "4           4870        24                  car   bad  "
      ]
     },
     "execution_count": 10,
     "metadata": {},
     "output_type": "execute_result"
    }
   ],
   "source": [
    "# importing data from  CSV file\n",
    "\n",
    "dataset=pd.read_csv('C:\\\\Users\\\\DELL\\\\Desktop\\\\MY STUFF\\\\DATA SCIENCE\\\\DATA\\\\Raw data\\\\german_credit_data.csv')\n",
    "\n",
    "dataset.shape # prints the shape of the imported dataset\n",
    "dataset.sample(5) # randomly prints the details of 5 rows\n",
    "dataset.rename(columns={'Unnamed: 0': 'Sr.no'},inplace=True) # renames first row unnamed to sr.no\n",
    "dataset.describe(include='all') # gives overall information of all columns\n",
    "dataset.head() # prints the initial details of data set\n"
   ]
  },
  {
   "cell_type": "code",
   "execution_count": 11,
   "metadata": {},
   "outputs": [
    {
     "data": {
      "text/html": [
       "<div>\n",
       "<style scoped>\n",
       "    .dataframe tbody tr th:only-of-type {\n",
       "        vertical-align: middle;\n",
       "    }\n",
       "\n",
       "    .dataframe tbody tr th {\n",
       "        vertical-align: top;\n",
       "    }\n",
       "\n",
       "    .dataframe thead th {\n",
       "        text-align: right;\n",
       "    }\n",
       "</style>\n",
       "<table border=\"1\" class=\"dataframe\">\n",
       "  <thead>\n",
       "    <tr style=\"text-align: right;\">\n",
       "      <th></th>\n",
       "      <th>Age</th>\n",
       "      <th>Sex</th>\n",
       "      <th>Job</th>\n",
       "      <th>Housing</th>\n",
       "      <th>Saving accounts</th>\n",
       "      <th>Checking account</th>\n",
       "      <th>Credit amount</th>\n",
       "      <th>Duration</th>\n",
       "      <th>Purpose</th>\n",
       "      <th>Risk</th>\n",
       "    </tr>\n",
       "    <tr>\n",
       "      <th>Sr.no</th>\n",
       "      <th></th>\n",
       "      <th></th>\n",
       "      <th></th>\n",
       "      <th></th>\n",
       "      <th></th>\n",
       "      <th></th>\n",
       "      <th></th>\n",
       "      <th></th>\n",
       "      <th></th>\n",
       "      <th></th>\n",
       "    </tr>\n",
       "  </thead>\n",
       "  <tbody>\n",
       "    <tr>\n",
       "      <th>733</th>\n",
       "      <td>28</td>\n",
       "      <td>female</td>\n",
       "      <td>2</td>\n",
       "      <td>rent</td>\n",
       "      <td>rich</td>\n",
       "      <td>NaN</td>\n",
       "      <td>2603</td>\n",
       "      <td>24</td>\n",
       "      <td>car</td>\n",
       "      <td>good</td>\n",
       "    </tr>\n",
       "    <tr>\n",
       "      <th>772</th>\n",
       "      <td>36</td>\n",
       "      <td>male</td>\n",
       "      <td>3</td>\n",
       "      <td>own</td>\n",
       "      <td>little</td>\n",
       "      <td>NaN</td>\n",
       "      <td>3275</td>\n",
       "      <td>21</td>\n",
       "      <td>car</td>\n",
       "      <td>good</td>\n",
       "    </tr>\n",
       "    <tr>\n",
       "      <th>776</th>\n",
       "      <td>37</td>\n",
       "      <td>male</td>\n",
       "      <td>2</td>\n",
       "      <td>own</td>\n",
       "      <td>little</td>\n",
       "      <td>NaN</td>\n",
       "      <td>3535</td>\n",
       "      <td>36</td>\n",
       "      <td>car</td>\n",
       "      <td>good</td>\n",
       "    </tr>\n",
       "    <tr>\n",
       "      <th>93</th>\n",
       "      <td>20</td>\n",
       "      <td>male</td>\n",
       "      <td>2</td>\n",
       "      <td>rent</td>\n",
       "      <td>NaN</td>\n",
       "      <td>rich</td>\n",
       "      <td>3617</td>\n",
       "      <td>24</td>\n",
       "      <td>furniture/equipment</td>\n",
       "      <td>good</td>\n",
       "    </tr>\n",
       "    <tr>\n",
       "      <th>980</th>\n",
       "      <td>49</td>\n",
       "      <td>male</td>\n",
       "      <td>2</td>\n",
       "      <td>own</td>\n",
       "      <td>little</td>\n",
       "      <td>moderate</td>\n",
       "      <td>8386</td>\n",
       "      <td>30</td>\n",
       "      <td>furniture/equipment</td>\n",
       "      <td>bad</td>\n",
       "    </tr>\n",
       "  </tbody>\n",
       "</table>\n",
       "</div>"
      ],
      "text/plain": [
       "       Age     Sex  Job Housing Saving accounts Checking account  \\\n",
       "Sr.no                                                              \n",
       "733     28  female    2    rent            rich              NaN   \n",
       "772     36    male    3     own          little              NaN   \n",
       "776     37    male    2     own          little              NaN   \n",
       "93      20    male    2    rent             NaN             rich   \n",
       "980     49    male    2     own          little         moderate   \n",
       "\n",
       "       Credit amount  Duration              Purpose  Risk  \n",
       "Sr.no                                                      \n",
       "733             2603        24                  car  good  \n",
       "772             3275        21                  car  good  \n",
       "776             3535        36                  car  good  \n",
       "93              3617        24  furniture/equipment  good  \n",
       "980             8386        30  furniture/equipment   bad  "
      ]
     },
     "execution_count": 11,
     "metadata": {},
     "output_type": "execute_result"
    }
   ],
   "source": [
    "dataset.index # prints the range of index\n",
    "dataset.set_index('Sr.no',inplace=True) # sets the index to Sr.no\n",
    "dataset.sample(5)# it gives a sample of 5 random data"
   ]
  },
  {
   "cell_type": "code",
   "execution_count": 12,
   "metadata": {},
   "outputs": [
    {
     "data": {
      "text/html": [
       "<div>\n",
       "<style scoped>\n",
       "    .dataframe tbody tr th:only-of-type {\n",
       "        vertical-align: middle;\n",
       "    }\n",
       "\n",
       "    .dataframe tbody tr th {\n",
       "        vertical-align: top;\n",
       "    }\n",
       "\n",
       "    .dataframe thead th {\n",
       "        text-align: right;\n",
       "    }\n",
       "</style>\n",
       "<table border=\"1\" class=\"dataframe\">\n",
       "  <thead>\n",
       "    <tr style=\"text-align: right;\">\n",
       "      <th></th>\n",
       "      <th>Age</th>\n",
       "      <th>Sex</th>\n",
       "      <th>Job</th>\n",
       "      <th>Housing</th>\n",
       "      <th>Saving accounts</th>\n",
       "      <th>Checking account</th>\n",
       "      <th>Credit amount</th>\n",
       "      <th>Duration</th>\n",
       "      <th>Purpose</th>\n",
       "      <th>Risk</th>\n",
       "    </tr>\n",
       "    <tr>\n",
       "      <th>Sr.no</th>\n",
       "      <th></th>\n",
       "      <th></th>\n",
       "      <th></th>\n",
       "      <th></th>\n",
       "      <th></th>\n",
       "      <th></th>\n",
       "      <th></th>\n",
       "      <th></th>\n",
       "      <th></th>\n",
       "      <th></th>\n",
       "    </tr>\n",
       "  </thead>\n",
       "  <tbody>\n",
       "    <tr>\n",
       "      <th>0</th>\n",
       "      <td>67</td>\n",
       "      <td>male</td>\n",
       "      <td>2</td>\n",
       "      <td>own</td>\n",
       "      <td>NaN</td>\n",
       "      <td>little</td>\n",
       "      <td>1169</td>\n",
       "      <td>6</td>\n",
       "      <td>radio/TV</td>\n",
       "      <td>1</td>\n",
       "    </tr>\n",
       "    <tr>\n",
       "      <th>1</th>\n",
       "      <td>22</td>\n",
       "      <td>female</td>\n",
       "      <td>2</td>\n",
       "      <td>own</td>\n",
       "      <td>little</td>\n",
       "      <td>moderate</td>\n",
       "      <td>5951</td>\n",
       "      <td>48</td>\n",
       "      <td>radio/TV</td>\n",
       "      <td>0</td>\n",
       "    </tr>\n",
       "    <tr>\n",
       "      <th>2</th>\n",
       "      <td>49</td>\n",
       "      <td>male</td>\n",
       "      <td>1</td>\n",
       "      <td>own</td>\n",
       "      <td>little</td>\n",
       "      <td>NaN</td>\n",
       "      <td>2096</td>\n",
       "      <td>12</td>\n",
       "      <td>education</td>\n",
       "      <td>1</td>\n",
       "    </tr>\n",
       "    <tr>\n",
       "      <th>3</th>\n",
       "      <td>45</td>\n",
       "      <td>male</td>\n",
       "      <td>2</td>\n",
       "      <td>free</td>\n",
       "      <td>little</td>\n",
       "      <td>little</td>\n",
       "      <td>7882</td>\n",
       "      <td>42</td>\n",
       "      <td>furniture/equipment</td>\n",
       "      <td>1</td>\n",
       "    </tr>\n",
       "    <tr>\n",
       "      <th>4</th>\n",
       "      <td>53</td>\n",
       "      <td>male</td>\n",
       "      <td>2</td>\n",
       "      <td>free</td>\n",
       "      <td>little</td>\n",
       "      <td>little</td>\n",
       "      <td>4870</td>\n",
       "      <td>24</td>\n",
       "      <td>car</td>\n",
       "      <td>0</td>\n",
       "    </tr>\n",
       "  </tbody>\n",
       "</table>\n",
       "</div>"
      ],
      "text/plain": [
       "       Age     Sex  Job Housing Saving accounts Checking account  \\\n",
       "Sr.no                                                              \n",
       "0       67    male    2     own             NaN           little   \n",
       "1       22  female    2     own          little         moderate   \n",
       "2       49    male    1     own          little              NaN   \n",
       "3       45    male    2    free          little           little   \n",
       "4       53    male    2    free          little           little   \n",
       "\n",
       "       Credit amount  Duration              Purpose  Risk  \n",
       "Sr.no                                                      \n",
       "0               1169         6             radio/TV     1  \n",
       "1               5951        48             radio/TV     0  \n",
       "2               2096        12            education     1  \n",
       "3               7882        42  furniture/equipment     1  \n",
       "4               4870        24                  car     0  "
      ]
     },
     "execution_count": 12,
     "metadata": {},
     "output_type": "execute_result"
    }
   ],
   "source": [
    "# assuming as good :1 and bad:0 in Risk\n",
    "\n",
    "risk_mappings={'good':1,'bad':0}\n",
    "dataset['Risk']=dataset['Risk'].map(risk_mappings) # using mapping technique to convert string category to int category\n",
    "dataset.head()\n",
    "\n"
   ]
  },
  {
   "cell_type": "code",
   "execution_count": 13,
   "metadata": {},
   "outputs": [
    {
     "data": {
      "text/html": [
       "<div>\n",
       "<style scoped>\n",
       "    .dataframe tbody tr th:only-of-type {\n",
       "        vertical-align: middle;\n",
       "    }\n",
       "\n",
       "    .dataframe tbody tr th {\n",
       "        vertical-align: top;\n",
       "    }\n",
       "\n",
       "    .dataframe thead th {\n",
       "        text-align: right;\n",
       "    }\n",
       "</style>\n",
       "<table border=\"1\" class=\"dataframe\">\n",
       "  <thead>\n",
       "    <tr style=\"text-align: right;\">\n",
       "      <th></th>\n",
       "      <th>Age</th>\n",
       "      <th>Sex</th>\n",
       "      <th>Job</th>\n",
       "      <th>Housing</th>\n",
       "      <th>Saving accounts</th>\n",
       "      <th>Checking account</th>\n",
       "      <th>Credit amount</th>\n",
       "      <th>Duration</th>\n",
       "      <th>Purpose</th>\n",
       "      <th>Risk</th>\n",
       "    </tr>\n",
       "    <tr>\n",
       "      <th>Sr.no</th>\n",
       "      <th></th>\n",
       "      <th></th>\n",
       "      <th></th>\n",
       "      <th></th>\n",
       "      <th></th>\n",
       "      <th></th>\n",
       "      <th></th>\n",
       "      <th></th>\n",
       "      <th></th>\n",
       "      <th></th>\n",
       "    </tr>\n",
       "  </thead>\n",
       "  <tbody>\n",
       "    <tr>\n",
       "      <th>0</th>\n",
       "      <td>senior_citizen</td>\n",
       "      <td>male</td>\n",
       "      <td>2</td>\n",
       "      <td>own</td>\n",
       "      <td>NaN</td>\n",
       "      <td>little</td>\n",
       "      <td>1169</td>\n",
       "      <td>6</td>\n",
       "      <td>radio/TV</td>\n",
       "      <td>1</td>\n",
       "    </tr>\n",
       "    <tr>\n",
       "      <th>1</th>\n",
       "      <td>adult</td>\n",
       "      <td>female</td>\n",
       "      <td>2</td>\n",
       "      <td>own</td>\n",
       "      <td>little</td>\n",
       "      <td>moderate</td>\n",
       "      <td>5951</td>\n",
       "      <td>48</td>\n",
       "      <td>radio/TV</td>\n",
       "      <td>0</td>\n",
       "    </tr>\n",
       "    <tr>\n",
       "      <th>2</th>\n",
       "      <td>above_middle_age</td>\n",
       "      <td>male</td>\n",
       "      <td>1</td>\n",
       "      <td>own</td>\n",
       "      <td>little</td>\n",
       "      <td>NaN</td>\n",
       "      <td>2096</td>\n",
       "      <td>12</td>\n",
       "      <td>education</td>\n",
       "      <td>1</td>\n",
       "    </tr>\n",
       "    <tr>\n",
       "      <th>3</th>\n",
       "      <td>above_middle_age</td>\n",
       "      <td>male</td>\n",
       "      <td>2</td>\n",
       "      <td>free</td>\n",
       "      <td>little</td>\n",
       "      <td>little</td>\n",
       "      <td>7882</td>\n",
       "      <td>42</td>\n",
       "      <td>furniture/equipment</td>\n",
       "      <td>1</td>\n",
       "    </tr>\n",
       "    <tr>\n",
       "      <th>4</th>\n",
       "      <td>old_age</td>\n",
       "      <td>male</td>\n",
       "      <td>2</td>\n",
       "      <td>free</td>\n",
       "      <td>little</td>\n",
       "      <td>little</td>\n",
       "      <td>4870</td>\n",
       "      <td>24</td>\n",
       "      <td>car</td>\n",
       "      <td>0</td>\n",
       "    </tr>\n",
       "  </tbody>\n",
       "</table>\n",
       "</div>"
      ],
      "text/plain": [
       "                    Age     Sex  Job Housing Saving accounts Checking account  \\\n",
       "Sr.no                                                                           \n",
       "0        senior_citizen    male    2     own             NaN           little   \n",
       "1                 adult  female    2     own          little         moderate   \n",
       "2      above_middle_age    male    1     own          little              NaN   \n",
       "3      above_middle_age    male    2    free          little           little   \n",
       "4               old_age    male    2    free          little           little   \n",
       "\n",
       "       Credit amount  Duration              Purpose  Risk  \n",
       "Sr.no                                                      \n",
       "0               1169         6             radio/TV     1  \n",
       "1               5951        48             radio/TV     0  \n",
       "2               2096        12            education     1  \n",
       "3               7882        42  furniture/equipment     1  \n",
       "4               4870        24                  car     0  "
      ]
     },
     "execution_count": 13,
     "metadata": {},
     "output_type": "execute_result"
    }
   ],
   "source": [
    "# converting of age to categorical values\n",
    "dataset['Age'].describe() # gives information such as count,mean,std etc.....\n",
    "dataset['Age']=dataset['Age'].fillna('adult') # this fills Nan to adult\n",
    "cut_points=[19,30,40,50,60,100]\n",
    "label_names=['adult','middle_age','above_middle_age','old_age','senior_citizen']\n",
    "# pd.cut is a method to name the range of continuousvalues\n",
    "dataset['Age']=pd.cut(dataset['Age'],cut_points,labels=label_names)\n",
    "dataset.head()"
   ]
  },
  {
   "cell_type": "code",
   "execution_count": 14,
   "metadata": {},
   "outputs": [
    {
     "data": {
      "image/png": "[encoded data removed]",
      "text/plain": [
       "<Figure size 432x288 with 1 Axes>"
      ]
     },
     "metadata": {},
     "output_type": "display_data"
    },
    {
     "name": "stdout",
     "output_type": "stream",
     "text": [
      "Percentage of people who are adult: 64.05867970660147\n",
      "Percentage of people who are middle_age:  74.60317460317461\n",
      "Percentage of people who are above middle age:  74.53416149068323\n",
      "Percentage of people who are senior citizen:  77.77777777777779\n"
     ]
    }
   ],
   "source": [
    "#2.Visulaisation\n",
    "# visulaizing the given data with seaborn\n",
    "#draw a bar plot of Age vs Risk\n",
    "\n",
    "sns.barplot(x=\"Age\", y=\"Risk\", data=dataset)\n",
    "plt.title('Age vs Risk')\n",
    "plt.show()\n",
    "\n",
    "print(\"Percentage of people who are adult:\", dataset[\"Risk\"][dataset[\"Age\"] =='adult'].value_counts(normalize = True)[1]*100)\n",
    "\n",
    "print(\"Percentage of people who are middle_age: \",dataset[\"Risk\"][dataset[\"Age\"] =='middle_age'].value_counts(normalize = True)[1]*100)\n",
    "\n",
    "print(\"Percentage of people who are above middle age: \",dataset[\"Risk\"][dataset[\"Age\"] =='above_middle_age'].value_counts(normalize = True)[1]*100)\n",
    "\n",
    "print(\"Percentage of people who are senior citizen: \",dataset[\"Risk\"][dataset[\"Age\"] =='senior_citizen'].value_counts(normalize = True)[1]*100)"
   ]
  },
  {
   "cell_type": "code",
   "execution_count": 16,
   "metadata": {},
   "outputs": [
    {
     "data": {
      "image/png": "[encoded data removed]",
      "text/plain": [
       "<Figure size 432x288 with 1 Axes>"
      ]
     },
     "metadata": {},
     "output_type": "display_data"
    },
    {
     "name": "stdout",
     "output_type": "stream",
     "text": [
      "total n.o of people who are good 1    700\n",
      "Name: Risk, dtype: int64\n",
      "total n.o of people who are bad 0    300\n",
      "Name: Risk, dtype: int64\n",
      "individual n.o of sex who are good \n",
      " male      499\n",
      "female    201\n",
      "Name: Sex, dtype: int64\n",
      "Percentage of female who are good : 64.83870967741936\n",
      "Percentage of males who are good: 72.31884057971014\n"
     ]
    }
   ],
   "source": [
    "#drawing a bar plot of Sex vs Risk\n",
    "sns.barplot(x=\"Sex\", y=\"Risk\", data=dataset)\n",
    "plt.title('Sex vs Risk')\n",
    "plt.show()\n",
    "\n",
    "# total n.o of sex who was not risk(good)\n",
    "print('total n.o of people who are good',dataset['Risk'][dataset['Risk']==1].value_counts())\n",
    "# total n.o of sex who was risk(bad)\n",
    "print('total n.o of people who are bad',dataset['Risk'][dataset['Risk']==0].value_counts())\n",
    "# individual n.o of sex who was not risk\n",
    "print('individual n.o of sex who are good \\n',dataset['Sex'][dataset['Risk']==1].value_counts())\n",
    "\n",
    "\n",
    "#print percentages of females vs. males that are good\n",
    "print(\"Percentage of female who are good :\", dataset[\"Risk\"][dataset[\"Sex\"] == 'female'].value_counts(normalize = True)[1]*100)\n",
    "\n",
    "print(\"Percentage of males who are good:\", dataset[\"Risk\"][dataset[\"Sex\"] == 'male'].value_counts(normalize = True)[1]*100)"
   ]
  },
  {
   "cell_type": "code",
   "execution_count": 17,
   "metadata": {},
   "outputs": [
    {
     "data": {
      "image/png": "[encoded data removed]",
      "text/plain": [
       "<Figure size 432x288 with 1 Axes>"
      ]
     },
     "metadata": {},
     "output_type": "display_data"
    },
    {
     "name": "stdout",
     "output_type": "stream",
     "text": [
      "Percentage of people who are having own house: 73.91304347826086\n",
      "Percentage people who are having free house: 59.25925925925925\n",
      "Percentage of people who are having rent house:  60.893854748603346\n"
     ]
    }
   ],
   "source": [
    "#draw a bar plot of Housing vs Risk\n",
    "sns.barplot(x=\"Housing\", y=\"Risk\", data=dataset)\n",
    "plt.title('Housing vs Risk')\n",
    "plt.show()\n",
    "#print percentages of housing that are good\n",
    "print(\"Percentage of people who are having own house:\", dataset[\"Risk\"][dataset[\"Housing\"] == 'own'].value_counts(normalize = True)[1]*100)\n",
    "\n",
    "print(\"Percentage people who are having free house:\", dataset[\"Risk\"][dataset[\"Housing\"] == 'free'].value_counts(normalize = True)[1]*100)\n",
    "\n",
    "print(\"Percentage of people who are having rent house: \", dataset[\"Risk\"][dataset[\"Housing\"] == 'rent'].value_counts(normalize = True)[1]*100)"
   ]
  },
  {
   "cell_type": "code",
   "execution_count": 18,
   "metadata": {},
   "outputs": [
    {
     "data": {
      "image/png": "[encoded data removed]",
      "text/plain": [
       "<Figure size 432x288 with 1 Axes>"
      ]
     },
     "metadata": {},
     "output_type": "display_data"
    },
    {
     "name": "stdout",
     "output_type": "stream",
     "text": [
      "Percentage of people who are unskiled and non-resident: 68.18181818181817\n",
      "Percentage people who are unskiled and resident: 72.0\n",
      "Percentage of people who are skilled:  70.47619047619048\n",
      "Percentage of people who are highly skilled:  65.54054054054053\n"
     ]
    }
   ],
   "source": [
    "#draw a bar plot of job vs Risk\n",
    "#Job (numeric: 0 - unskilled and non-resident, 1 - unskilled and resident, 2 - skilled, 3 - highly skilled)\n",
    "sns.barplot(x=\"Job\", y=\"Risk\", data=dataset)\n",
    "plt.title('Job vs Risk')\n",
    "plt.show()\n",
    "\n",
    "print(\"Percentage of people who are unskiled and non-resident:\", dataset[\"Risk\"][dataset[\"Job\"] == 0].value_counts(normalize = True)[1]*100)\n",
    "\n",
    "print(\"Percentage people who are unskiled and resident:\", dataset[\"Risk\"][dataset[\"Job\"] == 1].value_counts(normalize = True)[1]*100)\n",
    "\n",
    "print(\"Percentage of people who are skilled: \", dataset[\"Risk\"][dataset[\"Job\"] == 2].value_counts(normalize = True)[1]*100)\n",
    "\n",
    "print(\"Percentage of people who are highly skilled: \", dataset[\"Risk\"][dataset[\"Job\"] == 3].value_counts(normalize = True)[1]*100)"
   ]
  },
  {
   "cell_type": "code",
   "execution_count": 19,
   "metadata": {},
   "outputs": [
    {
     "data": {
      "text/plain": [
       "little        740\n",
       "moderate      127\n",
       "quite rich     75\n",
       "rich           57\n",
       "Name: Saving accounts, dtype: int64"
      ]
     },
     "execution_count": 19,
     "metadata": {},
     "output_type": "execute_result"
    }
   ],
   "source": [
    "# since some values are missed we need to replace Nan\n",
    "\n",
    "# replacing Nan by ffill method\n",
    "dataset['Saving accounts'].fillna(method='ffill',inplace=True) \n",
    "# prints the unique values in the savings account\n",
    "dataset['Saving accounts'].unique()\n",
    "# prints the unique value count\n",
    "dataset['Saving accounts'].value_counts()"
   ]
  },
  {
   "cell_type": "code",
   "execution_count": 20,
   "metadata": {},
   "outputs": [
    {
     "data": {
      "image/png": "[encoded data removed]",
      "text/plain": [
       "<Figure size 432x288 with 1 Axes>"
      ]
     },
     "metadata": {},
     "output_type": "display_data"
    },
    {
     "name": "stdout",
     "output_type": "stream",
     "text": [
      "Percentage of people who are little: 67.43243243243244\n",
      "Percentage people who are quite rich: 80.0\n",
      "Percentage of people who are rich:  87.71929824561403\n",
      "Percentage of people who are moderate:  70.86614173228347\n"
     ]
    }
   ],
   "source": [
    "#draw a bar plot of Saving accounts vs Risk\n",
    "\n",
    "sns.barplot(x=\"Saving accounts\", y=\"Risk\", data=dataset)\n",
    "plt.title('Saving account vs Risk')\n",
    "plt.show()\n",
    "\n",
    "print(\"Percentage of people who are little:\", dataset[\"Risk\"][dataset[\"Saving accounts\"] =='little'].value_counts(normalize = True)[1]*100)\n",
    "\n",
    "print(\"Percentage people who are quite rich:\",dataset[\"Risk\"][dataset[\"Saving accounts\"] =='quite rich'].value_counts(normalize = True)[1]*100)\n",
    "\n",
    "print(\"Percentage of people who are rich: \",dataset[\"Risk\"][dataset[\"Saving accounts\"] =='rich'].value_counts(normalize = True)[1]*100)\n",
    "\n",
    "print(\"Percentage of people who are moderate: \",dataset[\"Risk\"][dataset[\"Saving accounts\"] =='moderate'].value_counts(normalize = True)[1]*100)"
   ]
  },
  {
   "cell_type": "code",
   "execution_count": 21,
   "metadata": {},
   "outputs": [
    {
     "data": {
      "text/plain": [
       "little      460\n",
       "moderate    430\n",
       "rich        110\n",
       "Name: Checking account, dtype: int64"
      ]
     },
     "execution_count": 21,
     "metadata": {},
     "output_type": "execute_result"
    }
   ],
   "source": [
    "# since some values are missed we need to replace Nan\n",
    "\n",
    "# replacing Nan by bfill method\n",
    "dataset['Checking account'].fillna(method='bfill',inplace=True) \n",
    "# prints the unique values in the savings account\n",
    "dataset['Checking account'].unique()\n",
    "# prints the unique value count\n",
    "dataset['Checking account'].value_counts()"
   ]
  },
  {
   "cell_type": "code",
   "execution_count": 22,
   "metadata": {},
   "outputs": [
    {
     "data": {
      "image/png": "[encoded data removed]",
      "text/plain": [
       "<Figure size 432x288 with 1 Axes>"
      ]
     },
     "metadata": {},
     "output_type": "display_data"
    },
    {
     "name": "stdout",
     "output_type": "stream",
     "text": [
      "Percentage of people who are little: 65.43478260869566\n",
      "Percentage of people who are rich:  71.86046511627907\n",
      "Percentage of people who are moderate:  81.81818181818183\n"
     ]
    }
   ],
   "source": [
    "#draw a bar plot of checking accounts vs Risk\n",
    "\n",
    "sns.barplot(x=\"Checking account\", y=\"Risk\", data=dataset)\n",
    "plt.title('Checking account vs Risk')\n",
    "plt.show()\n",
    "\n",
    "print(\"Percentage of people who are little:\", dataset[\"Risk\"][dataset[\"Checking account\"] =='little'].value_counts(normalize = True)[1]*100)\n",
    "\n",
    "print(\"Percentage of people who are rich: \",dataset[\"Risk\"][dataset[\"Checking account\"] =='moderate'].value_counts(normalize = True)[1]*100)\n",
    "\n",
    "print(\"Percentage of people who are moderate: \",dataset[\"Risk\"][dataset[\"Checking account\"] =='rich'].value_counts(normalize = True)[1]*100)"
   ]
  },
  {
   "cell_type": "code",
   "execution_count": 23,
   "metadata": {},
   "outputs": [
    {
     "data": {
      "image/png": "[encoded data removed]",
      "text/plain": [
       "<Figure size 432x288 with 1 Axes>"
      ]
     },
     "metadata": {},
     "output_type": "display_data"
    },
    {
     "name": "stdout",
     "output_type": "stream",
     "text": [
      "Percentage of people for purpose of rdaio/Tv: 77.85714285714286\n",
      "Percentage of people for purpose of education:  61.016949152542374\n",
      "Percentage of people for purpose of furniture/equipment:  67.95580110497238\n",
      "Percentage of people for purpose of car: 68.5459940652819\n",
      "Percentage of people for purpose of business: 64.94845360824742\n",
      "Percentage of people for purpose of domestic appliances: 66.66666666666666\n",
      "Percentage of people for purpose of vacation/others: 58.333333333333336\n"
     ]
    }
   ],
   "source": [
    "#draw a bar plot of purpose vs Risk\n",
    "\n",
    "sns.barplot(x=\"Purpose\", y=\"Risk\", data=dataset)\n",
    "plt.title('Purpose vs Risk')\n",
    "plt.show()\n",
    "\n",
    "print(\"Percentage of people for purpose of rdaio/Tv:\", dataset[\"Risk\"][dataset[\"Purpose\"] =='radio/TV'].value_counts(normalize = True)[1]*100)\n",
    "\n",
    "print(\"Percentage of people for purpose of education: \",dataset[\"Risk\"][dataset[\"Purpose\"] =='education'].value_counts(normalize = True)[1]*100)\n",
    "\n",
    "print(\"Percentage of people for purpose of furniture/equipment: \",dataset[\"Risk\"][dataset[\"Purpose\"] =='furniture/equipment'].value_counts(normalize = True)[1]*100)\n",
    "\n",
    "print(\"Percentage of people for purpose of car:\", dataset[\"Risk\"][dataset[\"Purpose\"] =='car'].value_counts(normalize = True)[1]*100)\n",
    "\n",
    "print(\"Percentage of people for purpose of business:\", dataset[\"Risk\"][dataset[\"Purpose\"] =='business'].value_counts(normalize = True)[1]*100)\n",
    "\n",
    "print(\"Percentage of people for purpose of domestic appliances:\", dataset[\"Risk\"][dataset[\"Purpose\"] =='domestic appliances'].value_counts(normalize = True)[1]*100)\n",
    "\n",
    "print(\"Percentage of people for purpose of vacation/others:\", dataset[\"Risk\"][dataset[\"Purpose\"] =='vacation/others'].value_counts(normalize = True)[1]*100)\n",
    "\n"
   ]
  },
  {
   "cell_type": "code",
   "execution_count": 24,
   "metadata": {},
   "outputs": [
    {
     "data": {
      "text/plain": [
       "[senior_citizen, adult, above_middle_age, old_age, middle_age]\n",
       "Categories (5, object): [adult < middle_age < above_middle_age < old_age < senior_citizen]"
      ]
     },
     "execution_count": 24,
     "metadata": {},
     "output_type": "execute_result"
    }
   ],
   "source": [
    "# 3.conversion of string category to int categorical\n",
    "# main part of data cleansing\n",
    "# now conversion of input features to integer categorical values\n",
    "\n",
    "# Age conversion by using mapping technique\n",
    "dataset['Age'].unique() # checks for the unique values in age column\n",
    "dataset['Age'].fillna('adult',inplace=True)# fillna replaces any Nan to adult\n",
    "dataset['Age'].unique()"
   ]
  },
  {
   "cell_type": "code",
   "execution_count": 25,
   "metadata": {},
   "outputs": [],
   "source": [
    "age_mappings={'senior_citizen':4, 'adult':0, 'above_middle_age':2, 'old_age':3, 'middle_age':1}\n",
    "dataset['Age']=dataset['Age'].map(age_mappings) # mapping technique for convert into integer categorical values"
   ]
  },
  {
   "cell_type": "code",
   "execution_count": 26,
   "metadata": {},
   "outputs": [],
   "source": [
    "# Sex conversion to categorical values\n",
    "dataset['Sex'].unique()\n",
    "sex_mappings={'male':1,'female':0}\n",
    "dataset[\"Sex\"]=dataset[\"Sex\"].map(sex_mappings)"
   ]
  },
  {
   "cell_type": "code",
   "execution_count": 27,
   "metadata": {},
   "outputs": [],
   "source": [
    "# Housing conversion to categorical values\n",
    "dataset[\"Housing\"].unique()\n",
    "Housing_mappings={'own':2,'free':1,'rent':0}\n",
    "dataset[\"Housing\"]=dataset['Housing'].map(Housing_mappings)"
   ]
  },
  {
   "cell_type": "code",
   "execution_count": 28,
   "metadata": {},
   "outputs": [],
   "source": [
    "# savings account to categorical values\n",
    "\n",
    "dataset=dataset.dropna()\n",
    "dataset['Saving accounts'].unique()\n",
    "saving_mappings={'little':0,'moderate':1,'quite rich':2,'rich':3}\n",
    "dataset['Saving accounts']=dataset['Saving accounts'].map(saving_mappings)"
   ]
  },
  {
   "cell_type": "code",
   "execution_count": 29,
   "metadata": {},
   "outputs": [],
   "source": [
    "# checking account to categorical values\n",
    "\n",
    "dataset['Checking account'].unique()\n",
    "dataset['Checking account'].describe()\n",
    "checking_mappings={'little':0,'moderate':1,'rich':2}\n",
    "dataset['Checking account']=dataset['Checking account'].map(checking_mappings)"
   ]
  },
  {
   "cell_type": "code",
   "execution_count": 30,
   "metadata": {},
   "outputs": [],
   "source": [
    "# conversion of credited amount to categorical values\n",
    "\n",
    "# pd.cut method is far better than pd.qcut method when dealing with big continuous input features\n",
    "cut_points=[0,2000,3000,6000,8000,20000]\n",
    "labels=['too small','small','big','too big','bigger']\n",
    "dataset['Credit amount']=pd.cut(dataset['Credit amount'],cut_points,labels=labels)\n",
    "\n",
    "# now string categorical to int categorical by mapping\n",
    "amount_mappings={'big':2, 'small':1, \"too big\":3, \"bigger\":4, 'too small':0}\n",
    "dataset['Credit amount']=dataset['Credit amount'].map(amount_mappings)"
   ]
  },
  {
   "cell_type": "code",
   "execution_count": 31,
   "metadata": {},
   "outputs": [],
   "source": [
    "# conversion of duration to categorical values\n",
    "\n",
    "# pd.cut method is far better than pd.qcut method ,we can customize range of our own\n",
    "cut_points=[0,10,20,40,60,100]\n",
    "labels=[0,1,2,3,4]\n",
    "dataset['Duration']=pd.cut(dataset['Duration'],cut_points,labels=labels)\n"
   ]
  },
  {
   "cell_type": "code",
   "execution_count": 32,
   "metadata": {},
   "outputs": [],
   "source": [
    "# conversion of  purpose to categorical values by mapping technique\n",
    "amount_mappings={'radio/TV':1, 'education':0, 'furniture/equipment':2, 'car':3, 'business':4,\n",
    "       'domestic appliances':5, 'repairs':6, 'vacation/others':7}\n",
    "dataset['Purpose']=dataset['Purpose'].map(amount_mappings)"
   ]
  },
  {
   "cell_type": "code",
   "execution_count": 34,
   "metadata": {},
   "outputs": [
    {
     "data": {
      "text/html": [
       "<div>\n",
       "<style scoped>\n",
       "    .dataframe tbody tr th:only-of-type {\n",
       "        vertical-align: middle;\n",
       "    }\n",
       "\n",
       "    .dataframe tbody tr th {\n",
       "        vertical-align: top;\n",
       "    }\n",
       "\n",
       "    .dataframe thead th {\n",
       "        text-align: right;\n",
       "    }\n",
       "</style>\n",
       "<table border=\"1\" class=\"dataframe\">\n",
       "  <thead>\n",
       "    <tr style=\"text-align: right;\">\n",
       "      <th></th>\n",
       "      <th>Age</th>\n",
       "      <th>Sex</th>\n",
       "      <th>Job</th>\n",
       "      <th>Housing</th>\n",
       "      <th>Saving accounts</th>\n",
       "      <th>Checking account</th>\n",
       "      <th>Credit amount</th>\n",
       "      <th>Duration</th>\n",
       "      <th>Purpose</th>\n",
       "      <th>Risk</th>\n",
       "    </tr>\n",
       "    <tr>\n",
       "      <th>Sr.no</th>\n",
       "      <th></th>\n",
       "      <th></th>\n",
       "      <th></th>\n",
       "      <th></th>\n",
       "      <th></th>\n",
       "      <th></th>\n",
       "      <th></th>\n",
       "      <th></th>\n",
       "      <th></th>\n",
       "      <th></th>\n",
       "    </tr>\n",
       "  </thead>\n",
       "  <tbody>\n",
       "    <tr>\n",
       "      <th>515</th>\n",
       "      <td>1</td>\n",
       "      <td>0</td>\n",
       "      <td>2</td>\n",
       "      <td>2</td>\n",
       "      <td>0</td>\n",
       "      <td>0</td>\n",
       "      <td>0</td>\n",
       "      <td>0</td>\n",
       "      <td>3</td>\n",
       "      <td>1</td>\n",
       "    </tr>\n",
       "    <tr>\n",
       "      <th>959</th>\n",
       "      <td>0</td>\n",
       "      <td>1</td>\n",
       "      <td>2</td>\n",
       "      <td>1</td>\n",
       "      <td>1</td>\n",
       "      <td>1</td>\n",
       "      <td>2</td>\n",
       "      <td>2</td>\n",
       "      <td>2</td>\n",
       "      <td>1</td>\n",
       "    </tr>\n",
       "    <tr>\n",
       "      <th>928</th>\n",
       "      <td>3</td>\n",
       "      <td>1</td>\n",
       "      <td>2</td>\n",
       "      <td>2</td>\n",
       "      <td>0</td>\n",
       "      <td>0</td>\n",
       "      <td>0</td>\n",
       "      <td>2</td>\n",
       "      <td>1</td>\n",
       "      <td>1</td>\n",
       "    </tr>\n",
       "    <tr>\n",
       "      <th>571</th>\n",
       "      <td>1</td>\n",
       "      <td>1</td>\n",
       "      <td>2</td>\n",
       "      <td>2</td>\n",
       "      <td>0</td>\n",
       "      <td>0</td>\n",
       "      <td>2</td>\n",
       "      <td>2</td>\n",
       "      <td>1</td>\n",
       "      <td>1</td>\n",
       "    </tr>\n",
       "    <tr>\n",
       "      <th>889</th>\n",
       "      <td>1</td>\n",
       "      <td>1</td>\n",
       "      <td>2</td>\n",
       "      <td>0</td>\n",
       "      <td>0</td>\n",
       "      <td>0</td>\n",
       "      <td>3</td>\n",
       "      <td>2</td>\n",
       "      <td>3</td>\n",
       "      <td>1</td>\n",
       "    </tr>\n",
       "    <tr>\n",
       "      <th>216</th>\n",
       "      <td>1</td>\n",
       "      <td>1</td>\n",
       "      <td>2</td>\n",
       "      <td>2</td>\n",
       "      <td>0</td>\n",
       "      <td>0</td>\n",
       "      <td>2</td>\n",
       "      <td>1</td>\n",
       "      <td>4</td>\n",
       "      <td>1</td>\n",
       "    </tr>\n",
       "    <tr>\n",
       "      <th>391</th>\n",
       "      <td>0</td>\n",
       "      <td>0</td>\n",
       "      <td>1</td>\n",
       "      <td>0</td>\n",
       "      <td>3</td>\n",
       "      <td>1</td>\n",
       "      <td>0</td>\n",
       "      <td>1</td>\n",
       "      <td>2</td>\n",
       "      <td>1</td>\n",
       "    </tr>\n",
       "    <tr>\n",
       "      <th>243</th>\n",
       "      <td>0</td>\n",
       "      <td>0</td>\n",
       "      <td>2</td>\n",
       "      <td>2</td>\n",
       "      <td>0</td>\n",
       "      <td>2</td>\n",
       "      <td>0</td>\n",
       "      <td>1</td>\n",
       "      <td>4</td>\n",
       "      <td>1</td>\n",
       "    </tr>\n",
       "    <tr>\n",
       "      <th>783</th>\n",
       "      <td>0</td>\n",
       "      <td>0</td>\n",
       "      <td>1</td>\n",
       "      <td>2</td>\n",
       "      <td>1</td>\n",
       "      <td>1</td>\n",
       "      <td>0</td>\n",
       "      <td>1</td>\n",
       "      <td>3</td>\n",
       "      <td>0</td>\n",
       "    </tr>\n",
       "    <tr>\n",
       "      <th>2</th>\n",
       "      <td>2</td>\n",
       "      <td>1</td>\n",
       "      <td>1</td>\n",
       "      <td>2</td>\n",
       "      <td>0</td>\n",
       "      <td>0</td>\n",
       "      <td>1</td>\n",
       "      <td>1</td>\n",
       "      <td>0</td>\n",
       "      <td>1</td>\n",
       "    </tr>\n",
       "  </tbody>\n",
       "</table>\n",
       "</div>"
      ],
      "text/plain": [
       "       Age  Sex  Job  Housing  Saving accounts  Checking account  \\\n",
       "Sr.no                                                              \n",
       "515      1    0    2        2                0                 0   \n",
       "959      0    1    2        1                1                 1   \n",
       "928      3    1    2        2                0                 0   \n",
       "571      1    1    2        2                0                 0   \n",
       "889      1    1    2        0                0                 0   \n",
       "216      1    1    2        2                0                 0   \n",
       "391      0    0    1        0                3                 1   \n",
       "243      0    0    2        2                0                 2   \n",
       "783      0    0    1        2                1                 1   \n",
       "2        2    1    1        2                0                 0   \n",
       "\n",
       "       Credit amount Duration  Purpose  Risk  \n",
       "Sr.no                                         \n",
       "515                0        0        3     1  \n",
       "959                2        2        2     1  \n",
       "928                0        2        1     1  \n",
       "571                2        2        1     1  \n",
       "889                3        2        3     1  \n",
       "216                2        1        4     1  \n",
       "391                0        1        2     1  \n",
       "243                0        1        4     1  \n",
       "783                0        1        3     0  \n",
       "2                  1        1        0     1  "
      ]
     },
     "execution_count": 34,
     "metadata": {},
     "output_type": "execute_result"
    }
   ],
   "source": [
    "dataset.sample(10)"
   ]
  },
  {
   "cell_type": "code",
   "execution_count": 35,
   "metadata": {},
   "outputs": [],
   "source": [
    "#4.training the model\n",
    "from sklearn.model_selection import train_test_split\n",
    "\n",
    "testset=dataset['Risk']\n",
    "dataset=dataset.drop(['Risk'],axis=1)\n",
    "x_train,x_test,y_train,y_test=train_test_split(dataset,testset,test_size=0.3,random_state=0)"
   ]
  },
  {
   "cell_type": "code",
   "execution_count": 36,
   "metadata": {},
   "outputs": [
    {
     "name": "stdout",
     "output_type": "stream",
     "text": [
      "73.33\n"
     ]
    }
   ],
   "source": [
    "# we try with various machine learning algorthims that which gives more accuracy to our project.\n",
    "# Gaussian Naive Bayes\n",
    "from sklearn.naive_bayes import GaussianNB\n",
    "from sklearn.metrics import accuracy_score\n",
    "\n",
    "gaussian = GaussianNB()\n",
    "gaussian.fit(x_train, y_train)\n",
    "y_pred = gaussian.predict(x_test)\n",
    "acc_gaussian = round(accuracy_score(y_pred, y_test) * 100, 2)\n",
    "print(acc_gaussian)"
   ]
  },
  {
   "cell_type": "code",
   "execution_count": 37,
   "metadata": {},
   "outputs": [
    {
     "name": "stdout",
     "output_type": "stream",
     "text": [
      "75.67\n"
     ]
    }
   ],
   "source": [
    "# Logistic Regression\n",
    "from sklearn.linear_model import LogisticRegression\n",
    "\n",
    "logreg = LogisticRegression()\n",
    "logreg.fit(x_train, y_train)\n",
    "y_pred = logreg.predict(x_test)\n",
    "acc_logreg = round(accuracy_score(y_pred, y_test) * 100, 2)\n",
    "print(acc_logreg)"
   ]
  },
  {
   "cell_type": "code",
   "execution_count": 38,
   "metadata": {},
   "outputs": [
    {
     "name": "stdout",
     "output_type": "stream",
     "text": [
      "74.33\n"
     ]
    }
   ],
   "source": [
    "# state vector classifier\n",
    "from sklearn.svm import SVC\n",
    "\n",
    "svc = SVC()\n",
    "svc.fit(x_train, y_train)\n",
    "y_pred = svc.predict(x_test)\n",
    "acc_svc = round(accuracy_score(y_pred, y_test) * 100, 2)\n",
    "print(acc_svc)"
   ]
  },
  {
   "cell_type": "code",
   "execution_count": 39,
   "metadata": {},
   "outputs": [
    {
     "name": "stdout",
     "output_type": "stream",
     "text": [
      "71.0\n"
     ]
    },
    {
     "name": "stderr",
     "output_type": "stream",
     "text": [
      "C:\\ProgramData\\Anaconda3\\lib\\site-packages\\sklearn\\linear_model\\stochastic_gradient.py:128: FutureWarning: max_iter and tol parameters have been added in <class 'sklearn.linear_model.perceptron.Perceptron'> in 0.19. If both are left unset, they default to max_iter=5 and tol=None. If tol is not None, max_iter defaults to max_iter=1000. From 0.21, default max_iter will be 1000, and default tol will be 1e-3.\n",
      "  \"and default tol will be 1e-3.\" % type(self), FutureWarning)\n"
     ]
    }
   ],
   "source": [
    "# perceptron\n",
    "from sklearn.linear_model import Perceptron\n",
    "\n",
    "perceptron = Perceptron()\n",
    "perceptron.fit(x_train, y_train)\n",
    "y_pred = perceptron.predict(x_test)\n",
    "acc_perceptron = round(accuracy_score(y_pred, y_test) * 100, 2)\n",
    "print(acc_perceptron)"
   ]
  },
  {
   "cell_type": "code",
   "execution_count": 40,
   "metadata": {},
   "outputs": [
    {
     "name": "stdout",
     "output_type": "stream",
     "text": [
      "60.67\n"
     ]
    }
   ],
   "source": [
    "#Decision Tree\n",
    "from sklearn.tree import DecisionTreeClassifier\n",
    "\n",
    "decisiontree = DecisionTreeClassifier()\n",
    "decisiontree.fit(x_train, y_train)\n",
    "y_pred = decisiontree.predict(x_test)\n",
    "acc_decisiontree = round(accuracy_score(y_pred, y_test) * 100, 2)\n",
    "print(acc_decisiontree)"
   ]
  },
  {
   "cell_type": "code",
   "execution_count": 41,
   "metadata": {},
   "outputs": [
    {
     "name": "stdout",
     "output_type": "stream",
     "text": [
      "69.33\n"
     ]
    }
   ],
   "source": [
    "# Random Forest\n",
    "from sklearn.ensemble import RandomForestClassifier\n",
    "\n",
    "randomforest = RandomForestClassifier()\n",
    "randomforest.fit(x_train, y_train)\n",
    "y_pred = randomforest.predict(x_test)\n",
    "acc_randomforest = round(accuracy_score(y_pred, y_test) * 100, 2)\n",
    "print(acc_randomforest)"
   ]
  },
  {
   "cell_type": "code",
   "execution_count": 42,
   "metadata": {},
   "outputs": [
    {
     "name": "stdout",
     "output_type": "stream",
     "text": [
      "71.0\n"
     ]
    }
   ],
   "source": [
    "# KNN model\n",
    "from sklearn.neighbors import KNeighborsClassifier\n",
    "\n",
    "knn = KNeighborsClassifier()\n",
    "knn.fit(x_train, y_train)\n",
    "y_pred = knn.predict(x_test)\n",
    "acc_knn = round(accuracy_score(y_pred, y_test) * 100, 2)\n",
    "print(acc_knn)"
   ]
  },
  {
   "cell_type": "code",
   "execution_count": 47,
   "metadata": {},
   "outputs": [
    {
     "name": "stdout",
     "output_type": "stream",
     "text": [
      "73.0\n"
     ]
    },
    {
     "name": "stderr",
     "output_type": "stream",
     "text": [
      "C:\\ProgramData\\Anaconda3\\lib\\site-packages\\sklearn\\linear_model\\stochastic_gradient.py:128: FutureWarning: max_iter and tol parameters have been added in <class 'sklearn.linear_model.stochastic_gradient.SGDClassifier'> in 0.19. If both are left unset, they default to max_iter=5 and tol=None. If tol is not None, max_iter defaults to max_iter=1000. From 0.21, default max_iter will be 1000, and default tol will be 1e-3.\n",
      "  \"and default tol will be 1e-3.\" % type(self), FutureWarning)\n"
     ]
    }
   ],
   "source": [
    "# stochastic gradient classifier\n",
    "from sklearn.linear_model import SGDClassifier\n",
    "\n",
    "sgd = SGDClassifier()\n",
    "sgd.fit(x_train, y_train)\n",
    "y_pred = sgd.predict(x_test)\n",
    "acc_sgd = round(accuracy_score(y_pred, y_test) * 100, 2)\n",
    "print(acc_sgd)"
   ]
  },
  {
   "cell_type": "code",
   "execution_count": 49,
   "metadata": {},
   "outputs": [
    {
     "name": "stdout",
     "output_type": "stream",
     "text": [
      "75.33\n"
     ]
    }
   ],
   "source": [
    "# Gradient Boosting Classifier\n",
    "from sklearn.ensemble import GradientBoostingClassifier\n",
    "\n",
    "gbk = GradientBoostingClassifier()\n",
    "gbk.fit(x_train, y_train)\n",
    "y_pred = gbk.predict(x_test)\n",
    "acc_gbk = round(accuracy_score(y_pred, y_test) * 100, 2)\n",
    "print(acc_gbk)"
   ]
  },
  {
   "cell_type": "code",
   "execution_count": 50,
   "metadata": {},
   "outputs": [
    {
     "data": {
      "text/html": [
       "<div>\n",
       "<style scoped>\n",
       "    .dataframe tbody tr th:only-of-type {\n",
       "        vertical-align: middle;\n",
       "    }\n",
       "\n",
       "    .dataframe tbody tr th {\n",
       "        vertical-align: top;\n",
       "    }\n",
       "\n",
       "    .dataframe thead th {\n",
       "        text-align: right;\n",
       "    }\n",
       "</style>\n",
       "<table border=\"1\" class=\"dataframe\">\n",
       "  <thead>\n",
       "    <tr style=\"text-align: right;\">\n",
       "      <th></th>\n",
       "      <th>Model</th>\n",
       "      <th>Score</th>\n",
       "    </tr>\n",
       "  </thead>\n",
       "  <tbody>\n",
       "    <tr>\n",
       "      <th>2</th>\n",
       "      <td>Logistic Regression</td>\n",
       "      <td>75.67</td>\n",
       "    </tr>\n",
       "    <tr>\n",
       "      <th>8</th>\n",
       "      <td>Gradient Boosting Classifier</td>\n",
       "      <td>75.33</td>\n",
       "    </tr>\n",
       "    <tr>\n",
       "      <th>0</th>\n",
       "      <td>Support Vector Machines</td>\n",
       "      <td>74.33</td>\n",
       "    </tr>\n",
       "    <tr>\n",
       "      <th>4</th>\n",
       "      <td>Naive Bayes</td>\n",
       "      <td>73.33</td>\n",
       "    </tr>\n",
       "    <tr>\n",
       "      <th>7</th>\n",
       "      <td>Stochastic Gradient Descent</td>\n",
       "      <td>73.00</td>\n",
       "    </tr>\n",
       "    <tr>\n",
       "      <th>1</th>\n",
       "      <td>KNN</td>\n",
       "      <td>71.00</td>\n",
       "    </tr>\n",
       "    <tr>\n",
       "      <th>5</th>\n",
       "      <td>Perceptron</td>\n",
       "      <td>71.00</td>\n",
       "    </tr>\n",
       "    <tr>\n",
       "      <th>3</th>\n",
       "      <td>Random Forest</td>\n",
       "      <td>69.33</td>\n",
       "    </tr>\n",
       "    <tr>\n",
       "      <th>6</th>\n",
       "      <td>Decision Tree</td>\n",
       "      <td>60.67</td>\n",
       "    </tr>\n",
       "  </tbody>\n",
       "</table>\n",
       "</div>"
      ],
      "text/plain": [
       "                          Model  Score\n",
       "2           Logistic Regression  75.67\n",
       "8  Gradient Boosting Classifier  75.33\n",
       "0       Support Vector Machines  74.33\n",
       "4                   Naive Bayes  73.33\n",
       "7   Stochastic Gradient Descent  73.00\n",
       "1                           KNN  71.00\n",
       "5                    Perceptron  71.00\n",
       "3                 Random Forest  69.33\n",
       "6                 Decision Tree  60.67"
      ]
     },
     "execution_count": 50,
     "metadata": {},
     "output_type": "execute_result"
    }
   ],
   "source": [
    "models = pd.DataFrame({\n",
    "    'Model': ['Support Vector Machines', 'KNN', 'Logistic Regression', \n",
    "              'Random Forest', 'Naive Bayes', 'Perceptron',  \n",
    "              'Decision Tree', 'Stochastic Gradient Descent', 'Gradient Boosting Classifier'],\n",
    "    'Score': [acc_svc, acc_knn, acc_logreg, \n",
    "              acc_randomforest, acc_gaussian, acc_perceptron, acc_decisiontree,\n",
    "              acc_sgd, acc_gbk]})\n",
    "models.sort_values(by='Score', ascending=False)"
   ]
  },
  {
   "cell_type": "code",
   "execution_count": null,
   "metadata": {},
   "outputs": [],
   "source": [
    "# According to the above data frame we may go with Logistic regression\n",
    "# further clean evaluation on input features may increase the accuracy score \n",
    "# such as avoiding checking acc because half of the values are missing\n",
    "# SUBMISSION is done"
   ]
  }
 ],
 "metadata": {
  "kernelspec": {
   "display_name": "Python 3",
   "language": "python",
   "name": "python3"
  },
  "language_info": {
   "codemirror_mode": {
    "name": "ipython",
    "version": 3
   },
   "file_extension": ".py",
   "mimetype": "text/x-python",
   "name": "python",
   "nbconvert_exporter": "python",
   "pygments_lexer": "ipython3",
   "version": "3.6.5"
  }
 },
 "nbformat": 4,
 "nbformat_minor": 2
}
